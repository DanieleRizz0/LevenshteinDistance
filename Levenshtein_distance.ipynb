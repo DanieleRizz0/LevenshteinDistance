{
 "cells": [
  {
   "cell_type": "markdown",
   "metadata": {},
   "source": [
    "# Implementation of Levenshtein distance"
   ]
  },
  {
   "cell_type": "code",
   "execution_count": 1,
   "metadata": {},
   "outputs": [],
   "source": [
    "import numpy as np\n",
    "import pandas as pd "
   ]
  },
  {
   "cell_type": "code",
   "execution_count": 2,
   "metadata": {},
   "outputs": [],
   "source": [
    "def compute_matrix(string1, string2):\n",
    "    \n",
    "    '''Returns a matrix (2D Numpy array) matrix \n",
    "    with first row with values from 0 to the length \n",
    "    of the first string and column with values \n",
    "    from 0 to the length of the second string.'''\n",
    "\n",
    "    len1 = len(string1)\n",
    "    len2 = len(string2)\n",
    "    lev_mat = np.zeros( (len1 + 1, len2 + 1) )\n",
    "  \n",
    "    for i in range(len1+1):\n",
    "        lev_mat[i,0] = i\n",
    "  \n",
    "    for i in range(len2+1):\n",
    "        lev_mat[0,i] = i\n",
    "\n",
    "    return lev_mat\n",
    "\n",
    "\n",
    "\n",
    "\n",
    "def levenshtein_distance(string1, string2):\n",
    "    \n",
    "    '''Compute the matrix according to the Levenshtein algorithm\n",
    "    to find the the least number of edit operations that \n",
    "    are necessary to modify one string to obtain another \n",
    "    string, this number is also called edit distance.'''\n",
    "    \n",
    "    lev_mat = compute_matrix(string1, string2)\n",
    "    for i in range(len(string1)):\n",
    "        for j in range(len(string2)):\n",
    "            \n",
    "            if (string1[i] == string2[j]):\n",
    "                k = 0\n",
    "            else:\n",
    "                k = 1\n",
    "    \n",
    "            lev_mat[i+1,j+1] = min(lev_mat[i,j+1] + 1, lev_mat[i+1,j] + 1, lev_mat[i,j] + k)\n",
    "\n",
    "    return lev_mat[-1,-1]\n",
    "  "
   ]
  },
  {
   "cell_type": "markdown",
   "metadata": {},
   "source": [
    " # Application on the dog names in Zurich dataset"
   ]
  },
  {
   "cell_type": "markdown",
   "metadata": {},
   "source": [
    "Application of the previously defined function to find, in the dataset of dog names in Zurich, all names that have a Levenshtein distance of 1 to \"Luca\" "
   ]
  },
  {
   "cell_type": "code",
   "execution_count": 3,
   "metadata": {},
   "outputs": [
    {
     "data": {
      "text/html": [
       "<div>\n",
       "<style scoped>\n",
       "    .dataframe tbody tr th:only-of-type {\n",
       "        vertical-align: middle;\n",
       "    }\n",
       "\n",
       "    .dataframe tbody tr th {\n",
       "        vertical-align: top;\n",
       "    }\n",
       "\n",
       "    .dataframe thead th {\n",
       "        text-align: right;\n",
       "    }\n",
       "</style>\n",
       "<table border=\"1\" class=\"dataframe\">\n",
       "  <thead>\n",
       "    <tr style=\"text-align: right;\">\n",
       "      <th></th>\n",
       "      <th>HUNDENAME</th>\n",
       "      <th>GEBURTSJAHR_HUND</th>\n",
       "      <th>GESCHLECHT_HUND</th>\n",
       "    </tr>\n",
       "  </thead>\n",
       "  <tbody>\n",
       "    <tr>\n",
       "      <th>0</th>\n",
       "      <td>Ituma</td>\n",
       "      <td>2011</td>\n",
       "      <td>w</td>\n",
       "    </tr>\n",
       "    <tr>\n",
       "      <th>1</th>\n",
       "      <td>\"Bo\" Bendy of Treegarden</td>\n",
       "      <td>2020</td>\n",
       "      <td>m</td>\n",
       "    </tr>\n",
       "    <tr>\n",
       "      <th>2</th>\n",
       "      <td>\"Bobby\" Lord Sinclair</td>\n",
       "      <td>2009</td>\n",
       "      <td>m</td>\n",
       "    </tr>\n",
       "    <tr>\n",
       "      <th>3</th>\n",
       "      <td>\"Buddy\" Fortheringhay's J.</td>\n",
       "      <td>2011</td>\n",
       "      <td>m</td>\n",
       "    </tr>\n",
       "    <tr>\n",
       "      <th>4</th>\n",
       "      <td>\"Fly\" Showring i fly for you</td>\n",
       "      <td>2015</td>\n",
       "      <td>w</td>\n",
       "    </tr>\n",
       "  </tbody>\n",
       "</table>\n",
       "</div>"
      ],
      "text/plain": [
       "                      HUNDENAME  GEBURTSJAHR_HUND GESCHLECHT_HUND\n",
       "0                         Ituma              2011               w\n",
       "1      \"Bo\" Bendy of Treegarden              2020               m\n",
       "2         \"Bobby\" Lord Sinclair              2009               m\n",
       "3    \"Buddy\" Fortheringhay's J.              2011               m\n",
       "4  \"Fly\" Showring i fly for you              2015               w"
      ]
     },
     "execution_count": 3,
     "metadata": {},
     "output_type": "execute_result"
    }
   ],
   "source": [
    "hunde = pd.read_csv(\"https://data.stadt-zuerich.ch/dataset/sid_stapo_hundenamen/download/20210103_hundenamen.csv\")\n",
    "hunde.head()"
   ]
  },
  {
   "cell_type": "code",
   "execution_count": 4,
   "metadata": {},
   "outputs": [],
   "source": [
    "lucalike = set()\n",
    "\n",
    "for name in hunde.HUNDENAME:\n",
    "    if(levenshtein_distance(\"Luca\", name) == 1.):\n",
    "        lucalike.add(name)"
   ]
  },
  {
   "cell_type": "code",
   "execution_count": 5,
   "metadata": {},
   "outputs": [
    {
     "data": {
      "text/plain": [
       "{'Cuca',\n",
       " 'Lua',\n",
       " 'Luba',\n",
       " 'Lucas',\n",
       " 'Luce',\n",
       " 'Lucia',\n",
       " 'Lucy',\n",
       " 'Lula',\n",
       " 'Luma',\n",
       " 'Luna',\n",
       " 'Lupa',\n",
       " 'Yuca'}"
      ]
     },
     "execution_count": 5,
     "metadata": {},
     "output_type": "execute_result"
    }
   ],
   "source": [
    "lucalike"
   ]
  }
 ],
 "metadata": {
  "kernelspec": {
   "display_name": "Python 3",
   "language": "python",
   "name": "python3"
  },
  "language_info": {
   "codemirror_mode": {
    "name": "ipython",
    "version": 3
   },
   "file_extension": ".py",
   "mimetype": "text/x-python",
   "name": "python",
   "nbconvert_exporter": "python",
   "pygments_lexer": "ipython3",
   "version": "3.9.2"
  }
 },
 "nbformat": 4,
 "nbformat_minor": 4
}
